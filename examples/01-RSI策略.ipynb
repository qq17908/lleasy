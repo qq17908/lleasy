{
 "cells": [
  {
   "cell_type": "markdown",
   "metadata": {},
   "source": [
    "# RSI\n",
    "韦尔斯-威尔德 在1978年6月发表一种衡量证券自身内在相对强度的指标，Relative Strength Index，简称RSI，中文名为“相对强弱指标”。\n",
    "RSI指标用来判断股票的买入和卖出情况，从而预测未来股票价格走势。\n",
    "\n",
    "$$\n",
    "\\begin{aligned}\n",
    "& RSI = 100 * \\frac{\\frac{UP}{DOWN}}{1 + {\\frac{UP}{DOWN}}} \\\\\n",
    "&  = 100* \\frac{UP}{UP+DOWN}\\\\\n",
    "\n",
    "\\end{aligned}\n",
    "$$\n",
    "\n",
    "RSI 表示相对强弱的指标值，若t表示时期，UP表示t期内股价上涨幅度的平均值，DOWN表示t期内股价下跌幅度的平均值。\n",
    "\n",
    "# RSI 指标实例\n",
    "\n",
    "使用Python编写RSI，并运用RSI值制定交易策略。策略编写思路：\n",
    "1. 数据准备：获取股票数据，提取出收盘价数据；\n",
    "\n",
    "2. 捕捉买卖点：计算RSI6 和 RSI24的值\n",
    "\n",
    "\t\t当RSI6 > 80时，卖出信号；当RSI6 向下穿过 RSI24 时，为卖出信号；\n",
    "\t\t\n",
    "\t\t当RSI6 < 20时，买入信号；当RSI6 向上穿过 RSI24 时，为买入信号。\n",
    "\t\t\n",
    "3. 执行交易策略：按照RSI买卖点买入或卖出股票；\n",
    "4. 回测：对交易策略进行投资评价。"
   ]
  },
  {
   "cell_type": "code",
   "execution_count": 1,
   "metadata": {},
   "outputs": [
    {
     "name": "stdout",
     "output_type": "stream",
     "text": [
      "Available kernels:\n",
      "  python3    /Users/paul/anaconda3/envs/pybrokerlab/share/jupyter/kernels/python3\n",
      "  py37lab    /usr/local/share/jupyter/kernels/py37lab\n"
     ]
    }
   ],
   "source": [
    "!jupyter kernelspec list"
   ]
  },
  {
   "cell_type": "code",
   "execution_count": 54,
   "metadata": {},
   "outputs": [],
   "source": [
    "#vscode中使用python引入自定义模块\n",
    "import sys\n",
    "sys.path.append(r'/Users/paul/DSWorkspace/001量化策略/002-Project项目/lleasy')\n",
    "\n",
    "# 1. 数据准备\n",
    "from lleasy.database import SqliteDatabase as sqlitedb\n",
    "from lleasy.config import Config\n",
    "from lleasy.object import TradeData, BarData\n",
    "import numpy as np\n",
    "import pandas as pd\n",
    "\n",
    "#获取sqlite链接\n",
    "config = Config()\n",
    "config_dict = config.get_config('datasource_file')\n",
    "local_db_type = config_dict['local_db_type']\n",
    "local_db_path = config_dict['local_db_path']\n",
    "\n",
    "db = sqlitedb(local_db_path)\n"
   ]
  },
  {
   "cell_type": "markdown",
   "metadata": {},
   "source": [
    "## 数据准备"
   ]
  },
  {
   "cell_type": "code",
   "execution_count": 55,
   "metadata": {
    "collapsed": false,
    "pycharm": {
     "name": "#%%\n"
    }
   },
   "outputs": [
    {
     "name": "stdout",
     "output_type": "stream",
     "text": [
      "2023-07-23 12:55:40,893 INFO sqlalchemy.engine.Engine BEGIN (implicit)\n",
      "2023-07-23 12:55:40,896 INFO sqlalchemy.engine.Engine SELECT llbardata.id AS llbardata_id, llbardata.symbol AS llbardata_symbol, llbardata.interval AS llbardata_interval, llbardata.open AS llbardata_open, llbardata.close AS llbardata_close, llbardata.high AS llbardata_high, llbardata.low AS llbardata_low, llbardata.vol AS llbardata_vol, llbardata.turnover AS llbardata_turnover, llbardata.asset AS llbardata_asset, llbardata.adjust AS llbardata_adjust, llbardata.datetime AS llbardata_datetime \n",
      "FROM llbardata \n",
      "WHERE llbardata.symbol = ? AND llbardata.datetime >= ? AND llbardata.datetime <= ?\n",
      "2023-07-23 12:55:40,896 INFO sqlalchemy.engine.Engine [generated in 0.00086s] ('510050', '2022-01-01', '2023-01-01')\n"
     ]
    },
    {
     "data": {
      "text/html": [
       "<div>\n",
       "<style scoped>\n",
       "    .dataframe tbody tr th:only-of-type {\n",
       "        vertical-align: middle;\n",
       "    }\n",
       "\n",
       "    .dataframe tbody tr th {\n",
       "        vertical-align: top;\n",
       "    }\n",
       "\n",
       "    .dataframe thead th {\n",
       "        text-align: right;\n",
       "    }\n",
       "</style>\n",
       "<table border=\"1\" class=\"dataframe\">\n",
       "  <thead>\n",
       "    <tr style=\"text-align: right;\">\n",
       "      <th></th>\n",
       "      <th>symbol</th>\n",
       "      <th>open</th>\n",
       "      <th>close</th>\n",
       "      <th>high</th>\n",
       "      <th>low</th>\n",
       "    </tr>\n",
       "    <tr>\n",
       "      <th>datetime</th>\n",
       "      <th></th>\n",
       "      <th></th>\n",
       "      <th></th>\n",
       "      <th></th>\n",
       "      <th></th>\n",
       "    </tr>\n",
       "  </thead>\n",
       "  <tbody>\n",
       "    <tr>\n",
       "      <th>2022-01-04</th>\n",
       "      <td>510050</td>\n",
       "      <td>3.270</td>\n",
       "      <td>3.247</td>\n",
       "      <td>3.270</td>\n",
       "      <td>3.205</td>\n",
       "    </tr>\n",
       "    <tr>\n",
       "      <th>2022-01-05</th>\n",
       "      <td>510050</td>\n",
       "      <td>3.242</td>\n",
       "      <td>3.241</td>\n",
       "      <td>3.277</td>\n",
       "      <td>3.226</td>\n",
       "    </tr>\n",
       "    <tr>\n",
       "      <th>2022-01-06</th>\n",
       "      <td>510050</td>\n",
       "      <td>3.229</td>\n",
       "      <td>3.193</td>\n",
       "      <td>3.238</td>\n",
       "      <td>3.180</td>\n",
       "    </tr>\n",
       "    <tr>\n",
       "      <th>2022-01-07</th>\n",
       "      <td>510050</td>\n",
       "      <td>3.199</td>\n",
       "      <td>3.207</td>\n",
       "      <td>3.223</td>\n",
       "      <td>3.199</td>\n",
       "    </tr>\n",
       "    <tr>\n",
       "      <th>2022-01-10</th>\n",
       "      <td>510050</td>\n",
       "      <td>3.208</td>\n",
       "      <td>3.216</td>\n",
       "      <td>3.223</td>\n",
       "      <td>3.185</td>\n",
       "    </tr>\n",
       "    <tr>\n",
       "      <th>...</th>\n",
       "      <td>...</td>\n",
       "      <td>...</td>\n",
       "      <td>...</td>\n",
       "      <td>...</td>\n",
       "      <td>...</td>\n",
       "    </tr>\n",
       "    <tr>\n",
       "      <th>2022-12-26</th>\n",
       "      <td>510050</td>\n",
       "      <td>2.623</td>\n",
       "      <td>2.612</td>\n",
       "      <td>2.633</td>\n",
       "      <td>2.608</td>\n",
       "    </tr>\n",
       "    <tr>\n",
       "      <th>2022-12-27</th>\n",
       "      <td>510050</td>\n",
       "      <td>2.639</td>\n",
       "      <td>2.642</td>\n",
       "      <td>2.650</td>\n",
       "      <td>2.626</td>\n",
       "    </tr>\n",
       "    <tr>\n",
       "      <th>2022-12-28</th>\n",
       "      <td>510050</td>\n",
       "      <td>2.638</td>\n",
       "      <td>2.649</td>\n",
       "      <td>2.656</td>\n",
       "      <td>2.629</td>\n",
       "    </tr>\n",
       "    <tr>\n",
       "      <th>2022-12-29</th>\n",
       "      <td>510050</td>\n",
       "      <td>2.634</td>\n",
       "      <td>2.635</td>\n",
       "      <td>2.639</td>\n",
       "      <td>2.613</td>\n",
       "    </tr>\n",
       "    <tr>\n",
       "      <th>2022-12-30</th>\n",
       "      <td>510050</td>\n",
       "      <td>2.646</td>\n",
       "      <td>2.649</td>\n",
       "      <td>2.660</td>\n",
       "      <td>2.643</td>\n",
       "    </tr>\n",
       "  </tbody>\n",
       "</table>\n",
       "<p>242 rows × 5 columns</p>\n",
       "</div>"
      ],
      "text/plain": [
       "            symbol   open  close   high    low\n",
       "datetime                                      \n",
       "2022-01-04  510050  3.270  3.247  3.270  3.205\n",
       "2022-01-05  510050  3.242  3.241  3.277  3.226\n",
       "2022-01-06  510050  3.229  3.193  3.238  3.180\n",
       "2022-01-07  510050  3.199  3.207  3.223  3.199\n",
       "2022-01-10  510050  3.208  3.216  3.223  3.185\n",
       "...            ...    ...    ...    ...    ...\n",
       "2022-12-26  510050  2.623  2.612  2.633  2.608\n",
       "2022-12-27  510050  2.639  2.642  2.650  2.626\n",
       "2022-12-28  510050  2.638  2.649  2.656  2.629\n",
       "2022-12-29  510050  2.634  2.635  2.639  2.613\n",
       "2022-12-30  510050  2.646  2.649  2.660  2.643\n",
       "\n",
       "[242 rows x 5 columns]"
      ]
     },
     "execution_count": 55,
     "metadata": {},
     "output_type": "execute_result"
    }
   ],
   "source": [
    "# 获取数据\n",
    "# 标的：510050\n",
    "# 时间：2022-01-01 至 2023-01-01\n",
    "# 频率：日行情\n",
    "session = sqlitedb(local_db_path).getDBSession()\n",
    "bars = session.query(BarData)\\\n",
    "        .where(BarData.symbol=='510050')\\\n",
    "        .where(BarData.datetime >= '2022-01-01')\\\n",
    "        .where(BarData.datetime <= '2023-01-01')\\\n",
    "        .all()\n",
    "results = [bar.to_dict() for bar in bars]\n",
    "results=pd.DataFrame(\n",
    "    results,\n",
    "    columns=['datetime','symbol','open','close','high','low']\n",
    ")\n",
    "\n",
    "results=results.set_index(['datetime'])\n",
    "results"
   ]
  },
  {
   "cell_type": "markdown",
   "metadata": {},
   "source": [
    "## 编制策略\n",
    "1. 计算RSI6 和 RSI24的值\n",
    "2. 捕获信号。\n",
    "   a. 获取超卖超买信号signal_bs、黄金或死叉信号signal_gd\n",
    "   b. 将signal_bs 和 signal_gd 结合型成 signal信号。\n"
   ]
  },
  {
   "cell_type": "code",
   "execution_count": 66,
   "metadata": {
    "collapsed": false,
    "pycharm": {
     "name": "#%%\n"
    }
   },
   "outputs": [
    {
     "data": {
      "text/plain": [
       "datetime\n",
       "2022-02-14    0.0\n",
       "2022-02-15    0.0\n",
       "2022-02-16    0.0\n",
       "2022-02-17    0.0\n",
       "2022-02-18    0.0\n",
       "             ... \n",
       "2022-12-26    1.0\n",
       "2022-12-27    0.0\n",
       "2022-12-28    1.0\n",
       "2022-12-29    0.0\n",
       "2022-12-30    0.0\n",
       "Length: 218, dtype: float64"
      ]
     },
     "execution_count": 66,
     "metadata": {},
     "output_type": "execute_result"
    }
   ],
   "source": [
    "# 捕捉买卖点：计算RSI6 和 RSI24的值\n",
    "## 定义rsi函数，通过行情close价格计算rsi值\n",
    "def rsi(price,period=6):\n",
    "    clpriceChange = price - price.shift(1)\n",
    "    clpriceChange = clpriceChange.dropna()\n",
    "\n",
    "    indexPrice = clpriceChange.index\n",
    "    upPrice = pd.Series(0,index=indexPrice)\n",
    "    upPrice[clpriceChange>0] = clpriceChange[clpriceChange>0]\n",
    "\n",
    "    downPrice = pd.Series(0,index=indexPrice)\n",
    "    downPrice[clpriceChange<0] = - clpriceChange[clpriceChange<0]\n",
    "\n",
    "    rsidata = pd.concat([price,clpriceChange,upPrice,downPrice],axis=1)\n",
    "    rsidata.columns=['close','clpriceChange','upPrice','downPrice']\n",
    "    rsidata = rsidata.dropna()\n",
    "    \n",
    "    UP = []\n",
    "    DOWN = []\n",
    "\n",
    "    for i in range(period,len(upPrice)+1):\n",
    "        UP.append(np.mean(upPrice.values[(i-period):i],dtype=np.float32))\n",
    "        DOWN.append(np.mean(downPrice.values[(i-period):i],dtype=np.float32))\n",
    "        rsi = [100 * UP[i] / (UP[i] + DOWN[i]) for i in range(0,len(UP))]\n",
    "\n",
    "    indexRsi = indexPrice[(period-1):]\n",
    "    rsi = pd.Series(rsi,index=indexRsi)\n",
    "\n",
    "    return rsi\n",
    "\n",
    "# 捕获买卖信号\n",
    "rsi6 = rsi(results['close'],6)\n",
    "rsi24 = rsi(results['close'],24)\n",
    "\n",
    "signal_ls_bs = []\n",
    "signal_ls_gd = []\n",
    "\n",
    "## rsi6 > 80，近期高于超买线，价格将由回落趋势，释放出卖出信号\n",
    "## rsi6 < 20，近期低于超卖线，价格将由回升趋势，释放出买入信号\n",
    "for i in rsi6:\n",
    "    if i > 80:\n",
    "        signal_ls_bs.append(-1)\n",
    "    elif i < 20:\n",
    "        signal_ls_bs.append(1)\n",
    "    else:\n",
    "        signal_ls_bs.append(0)\n",
    "\n",
    "#获取超卖超买信号signal_bs\n",
    "## signal_bs = -1。rsi6 > 80，近期高于超买线，价格将由回落趋势，释放出卖出信号\n",
    "## signal_bs = 1。 rsi6 < 20，近期低于超卖线，价格将由回升趋势，释放出买入信号\n",
    "signal_bs = pd.Series(signal_ls_bs,index=rsi6.index)\n",
    "\n",
    "#黄金或死叉信号signal_gd\n",
    "## 黄金交叉，RSI6 由下方向上穿过 RSI24。\n",
    "## 死亡交叉，RSI6 由上方向下穿过 RSI24。\n",
    "\n",
    "signal_gd = pd.Series(0,index=rsi24.index)\n",
    "lastRSI6 = rsi6.shift(1)\n",
    "lastRSI24 = rsi24.shift(1)\n",
    "\n",
    "## signal_gd\n",
    "### signal_gd = -1, 表示rsi6 从上向下穿过 rsi24，释放出卖出信号\n",
    "### signal_gd = 1, 表示rsi6，从下向上穿过 rsi24，释放出买入信号\n",
    "for i in rsi24.index:\n",
    "    if (rsi6[i] > rsi24[i]) and (lastRSI6[i] < lastRSI24[i]):\n",
    "        signal_gd[i] = 1\n",
    "    elif (rsi6[i] < rsi24[i]) and (lastRSI6[i] > lastRSI24[i]):\n",
    "        signal_gd[i] = -1\n",
    "\n",
    "# 将 超卖超买 和 黄金死亡 信号结合形成最终 买卖型号 signal\n",
    "## signal = 1 买入信号\n",
    "## signal = -1 卖出信号\n",
    "signal = signal_bs + signal_gd\n",
    "signal[signal>=1] = 1\n",
    "signal[signal<=-1] = -1\n",
    "signal=signal.dropna()\n",
    "signal\n"
   ]
  },
  {
   "cell_type": "markdown",
   "metadata": {},
   "source": [
    "## 执行策略\n"
   ]
  },
  {
   "cell_type": "code",
   "execution_count": 120,
   "metadata": {},
   "outputs": [],
   "source": [
    "# signal 信号出现后2天进行交易\n",
    "trade = signal.shift(2)"
   ]
  },
  {
   "cell_type": "markdown",
   "metadata": {},
   "source": [
    "## 回测评估\n",
    "1. 策略绩效指标：收益率、年化收益率、胜率\n",
    "2. 分析回测结果\n",
    "3. 优化策略参数\n",
    "4. 对比"
   ]
  },
  {
   "cell_type": "code",
   "execution_count": 121,
   "metadata": {},
   "outputs": [
    {
     "data": {
      "text/plain": [
       "0.4631578947368421"
      ]
     },
     "execution_count": 121,
     "metadata": {},
     "output_type": "execute_result"
    }
   ],
   "source": [
    "# 计算收益率\n",
    "ret = results['close'] / results['close'].shift(1) - 1\n",
    "\n",
    "### 数据由object转换为float，否则float * object 会报错。\n",
    "ret = ret[trade.index].astype(float)\n",
    "\n",
    "## 计算买入交易收益率\n",
    "buy = trade[trade == 1]\n",
    "buyRet = ret[trade == 1] * buy\n",
    "\n",
    "## 计算卖出交易收益率\n",
    "sell = trade[trade == -1]\n",
    "sellRet = ret[trade == -1] * sell\n",
    "\n",
    "## 计算卖买交易合并的收益率\n",
    "tradeRet = ret * trade\n",
    "\n",
    "# 计算胜率\n",
    "winRate = len(tradeRet[tradeRet>0]) / len(tradeRet[tradeRet!= 0])\n",
    "winRate"
   ]
  },
  {
   "cell_type": "markdown",
   "metadata": {},
   "source": [
    "-【补充】趋势图"
   ]
  },
  {
   "cell_type": "markdown",
   "metadata": {},
   "source": [
    "# 总结\n",
    "1. RSI指标用于判断市场超买和超卖情况；\n",
    "2. RSI线的形态分析，RSI曲线在不同区域展示出不同的买卖信号\n",
    "3. 长短线RSI的黄金交叉和死亡交叉\n",
    "4. 需要注意，在RSI线的走势与价格走势会出现背离。"
   ]
  }
 ],
 "metadata": {
  "kernelspec": {
   "display_name": "pybrokerlab",
   "language": "python",
   "name": "python3"
  },
  "language_info": {
   "codemirror_mode": {
    "name": "ipython",
    "version": 3
   },
   "file_extension": ".py",
   "mimetype": "text/x-python",
   "name": "python",
   "nbconvert_exporter": "python",
   "pygments_lexer": "ipython3",
   "version": "3.10.12"
  },
  "orig_nbformat": 4
 },
 "nbformat": 4,
 "nbformat_minor": 2
}
