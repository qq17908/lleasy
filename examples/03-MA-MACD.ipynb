{
 "cells": [
  {
   "cell_type": "markdown",
   "metadata": {},
   "source": [
    "# MACD\n",
    "\n",
    "异同移动（Moving Average Convergence/Divergence）是由指数均线演变而来，是股票分析中常见的指标。\n",
    "\n",
    "MACD指标，反应股票价格走势能量和变化强度，通过“2线1柱”发现股票的买卖点。\n",
    "\n",
    "MACD，是由“2线1柱”组成：\n",
    "- DIF 快速线 - 一般由12日指数加权平均值减去26日指数加权移动平均值\n",
    "- DEA慢速线 - 是DIF的9日指数加权移动平均值。\n",
    "- MACD 柱状图 - DIF 减去 DEA。\n",
    "MACD默认的参数：12、26、9。\n",
    "\n",
    "## MACD 计算公式\n",
    "\n",
    "$$\n",
    "\\begin{aligned}\n",
    "& DIF = EMA_{(close,12)} - EMA_{(close,26)} \\\\\n",
    "& DEA = EMA_{(DIF,9)}\\\\\n",
    "& MCAD = DIF - DEA\n",
    "\\end{aligned}\n",
    "\n",
    "$$\n",
    "\n",
    "- DIF ：12日指数移动平均值EMA12 减去 26日指数移动平均值EMA26\n",
    "- DEA：计算DIF的9日指数移动平均值EMA9\n",
    "\n",
    "## MACD应用说明\n",
    "- DIF、DEA均为正，DIF向上突破DEA，买入信号；\n",
    "- DIF、DEA均为负，DIF向下跌破DEA，卖出信号。"
   ]
  }
 ],
 "metadata": {
  "kernelspec": {
   "display_name": "pybrokerlab",
   "language": "python",
   "name": "python3"
  },
  "language_info": {
   "name": "python",
   "version": "3.10.12"
  },
  "orig_nbformat": 4
 },
 "nbformat": 4,
 "nbformat_minor": 2
}
