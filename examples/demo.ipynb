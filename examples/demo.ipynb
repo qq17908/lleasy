{
 "cells": [
  {
   "cell_type": "code",
   "execution_count": null,
   "metadata": {},
   "outputs": [],
   "source": [
    "import sys\n",
    "sys.path.append(r'/Users/paul/DSWorkspace/001量化策略/002-Project项目/lleasy')\n",
    "\n",
    "# 1. 数据准备\n",
    "from lleasy.database import SqliteDatabase as sqlitedb\n",
    "from lleasy.object import TradeData, BarData\n",
    "import numpy as np\n",
    "import pandas as pd\n",
    "\n",
    "%load_ext autoreload\n",
    "%autoreload 2"
   ]
  },
  {
   "cell_type": "markdown",
   "metadata": {},
   "source": [
    "## 数据准备"
   ]
  },
  {
   "cell_type": "code",
   "execution_count": null,
   "metadata": {},
   "outputs": [],
   "source": [
    "# 获取数据\n",
    "# 标的：601318 中国平安\n",
    "# 时间：2022-01-01 至 2023-01-01\n",
    "# 频率：日行情\n",
    "#获取sqlite链接\n",
    "db = sqlitedb()\n",
    "datas= db.get_symbol_bars_bySEDate('601318','2022-01-01','2023-01-01')\n",
    "datas=datas.set_index(['datetime'])"
   ]
  },
  {
   "cell_type": "markdown",
   "metadata": {},
   "source": [
    "## 编制策略\n"
   ]
  },
  {
   "cell_type": "markdown",
   "metadata": {},
   "source": [
    "## 执行策略\n"
   ]
  },
  {
   "cell_type": "markdown",
   "metadata": {},
   "source": [
    "## 策略回测"
   ]
  }
 ],
 "metadata": {
  "language_info": {
   "name": "python"
  },
  "orig_nbformat": 4
 },
 "nbformat": 4,
 "nbformat_minor": 2
}
